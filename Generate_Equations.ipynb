{
  "cells": [
    {
      "cell_type": "markdown",
      "metadata": {
        "id": "view-in-github",
        "colab_type": "text"
      },
      "source": [
        "<a href=\"https://colab.research.google.com/github/Sirfowahid/Iron_Slug/blob/main/Generate_Equations.ipynb\" target=\"_parent\"><img src=\"https://colab.research.google.com/assets/colab-badge.svg\" alt=\"Open In Colab\"/></a>"
      ]
    },
    {
      "cell_type": "code",
      "execution_count": null,
      "id": "51tX59k6BpNs",
      "metadata": {
        "colab": {
          "background_save": true
        },
        "id": "51tX59k6BpNs",
        "outputId": "282cf301-0d66-4f48-ba2a-3fc90bd25ec5"
      },
      "outputs": [
        {
          "ename": "ValueError",
          "evalue": "mount failed",
          "output_type": "error",
          "traceback": [
            "\u001b[0;31m---------------------------------------------------------------------------\u001b[0m",
            "\u001b[0;31mValueError\u001b[0m                                Traceback (most recent call last)",
            "\u001b[0;32m<ipython-input-1-bf1647b42bbd>\u001b[0m in \u001b[0;36m<cell line: 2>\u001b[0;34m()\u001b[0m\n\u001b[1;32m      1\u001b[0m \u001b[0;32mfrom\u001b[0m \u001b[0mgoogle\u001b[0m\u001b[0;34m.\u001b[0m\u001b[0mcolab\u001b[0m \u001b[0;32mimport\u001b[0m \u001b[0mdrive\u001b[0m\u001b[0;34m\u001b[0m\u001b[0;34m\u001b[0m\u001b[0m\n\u001b[0;32m----> 2\u001b[0;31m \u001b[0mdrive\u001b[0m\u001b[0;34m.\u001b[0m\u001b[0mmount\u001b[0m\u001b[0;34m(\u001b[0m\u001b[0;34m\"/content/drive\"\u001b[0m\u001b[0;34m)\u001b[0m\u001b[0;34m\u001b[0m\u001b[0;34m\u001b[0m\u001b[0m\n\u001b[0m",
            "\u001b[0;32m/usr/local/lib/python3.10/dist-packages/google/colab/drive.py\u001b[0m in \u001b[0;36mmount\u001b[0;34m(mountpoint, force_remount, timeout_ms, readonly)\u001b[0m\n\u001b[1;32m     98\u001b[0m \u001b[0;32mdef\u001b[0m \u001b[0mmount\u001b[0m\u001b[0;34m(\u001b[0m\u001b[0mmountpoint\u001b[0m\u001b[0;34m,\u001b[0m \u001b[0mforce_remount\u001b[0m\u001b[0;34m=\u001b[0m\u001b[0;32mFalse\u001b[0m\u001b[0;34m,\u001b[0m \u001b[0mtimeout_ms\u001b[0m\u001b[0;34m=\u001b[0m\u001b[0;36m120000\u001b[0m\u001b[0;34m,\u001b[0m \u001b[0mreadonly\u001b[0m\u001b[0;34m=\u001b[0m\u001b[0;32mFalse\u001b[0m\u001b[0;34m)\u001b[0m\u001b[0;34m:\u001b[0m\u001b[0;34m\u001b[0m\u001b[0;34m\u001b[0m\u001b[0m\n\u001b[1;32m     99\u001b[0m   \u001b[0;34m\"\"\"Mount your Google Drive at the specified mountpoint path.\"\"\"\u001b[0m\u001b[0;34m\u001b[0m\u001b[0;34m\u001b[0m\u001b[0m\n\u001b[0;32m--> 100\u001b[0;31m   return _mount(\n\u001b[0m\u001b[1;32m    101\u001b[0m       \u001b[0mmountpoint\u001b[0m\u001b[0;34m,\u001b[0m\u001b[0;34m\u001b[0m\u001b[0;34m\u001b[0m\u001b[0m\n\u001b[1;32m    102\u001b[0m       \u001b[0mforce_remount\u001b[0m\u001b[0;34m=\u001b[0m\u001b[0mforce_remount\u001b[0m\u001b[0;34m,\u001b[0m\u001b[0;34m\u001b[0m\u001b[0;34m\u001b[0m\u001b[0m\n",
            "\u001b[0;32m/usr/local/lib/python3.10/dist-packages/google/colab/drive.py\u001b[0m in \u001b[0;36m_mount\u001b[0;34m(mountpoint, force_remount, timeout_ms, ephemeral, readonly)\u001b[0m\n\u001b[1;32m    275\u001b[0m             \u001b[0;34m'https://research.google.com/colaboratory/faq.html#drive-timeout'\u001b[0m\u001b[0;34m\u001b[0m\u001b[0;34m\u001b[0m\u001b[0m\n\u001b[1;32m    276\u001b[0m         )\n\u001b[0;32m--> 277\u001b[0;31m       \u001b[0;32mraise\u001b[0m \u001b[0mValueError\u001b[0m\u001b[0;34m(\u001b[0m\u001b[0;34m'mount failed'\u001b[0m \u001b[0;34m+\u001b[0m \u001b[0mextra_reason\u001b[0m\u001b[0;34m)\u001b[0m\u001b[0;34m\u001b[0m\u001b[0;34m\u001b[0m\u001b[0m\n\u001b[0m\u001b[1;32m    278\u001b[0m     \u001b[0;32melif\u001b[0m \u001b[0mcase\u001b[0m \u001b[0;34m==\u001b[0m \u001b[0;36m4\u001b[0m\u001b[0;34m:\u001b[0m\u001b[0;34m\u001b[0m\u001b[0;34m\u001b[0m\u001b[0m\n\u001b[1;32m    279\u001b[0m       \u001b[0;31m# Terminate the DriveFS binary before killing bash.\u001b[0m\u001b[0;34m\u001b[0m\u001b[0;34m\u001b[0m\u001b[0m\n",
            "\u001b[0;31mValueError\u001b[0m: mount failed"
          ]
        }
      ],
      "source": [
        "from google.colab import drive\n",
        "drive.mount(\"/content/drive\")"
      ]
    },
    {
      "cell_type": "code",
      "execution_count": null,
      "id": "6265b74d",
      "metadata": {
        "colab": {
          "background_save": true
        },
        "id": "6265b74d"
      },
      "outputs": [],
      "source": [
        "import pandas as pd\n",
        "import numpy as np\n",
        "import warnings\n",
        "from sklearn.model_selection import train_test_split\n",
        "from sklearn.linear_model import LinearRegression, Ridge, Lasso\n",
        "from sklearn.preprocessing import PolynomialFeatures\n",
        "from sklearn.tree import DecisionTreeRegressor\n",
        "from sklearn.metrics import mean_squared_error, mean_absolute_error, r2_score\n",
        "warnings.filterwarnings('ignore')"
      ]
    },
    {
      "cell_type": "code",
      "execution_count": null,
      "id": "17be34d6",
      "metadata": {
        "id": "17be34d6",
        "outputId": "2fdb88c9-94cd-4a70-a51b-63e439a16c4d"
      },
      "outputs": [
        {
          "data": {
            "text/html": [
              "<div>\n",
              "<style scoped>\n",
              "    .dataframe tbody tr th:only-of-type {\n",
              "        vertical-align: middle;\n",
              "    }\n",
              "\n",
              "    .dataframe tbody tr th {\n",
              "        vertical-align: top;\n",
              "    }\n",
              "\n",
              "    .dataframe thead th {\n",
              "        text-align: right;\n",
              "    }\n",
              "</style>\n",
              "<table border=\"1\" class=\"dataframe\">\n",
              "  <thead>\n",
              "    <tr style=\"text-align: right;\">\n",
              "      <th></th>\n",
              "      <th>Cement (kg/m3)</th>\n",
              "      <th>CA (kg/m3)</th>\n",
              "      <th>FA (kg/m3)</th>\n",
              "      <th>WIS (kg/m3)</th>\n",
              "      <th>Water (kg/m3)</th>\n",
              "      <th>W/C</th>\n",
              "      <th>Concrete Age (Days)</th>\n",
              "      <th>Measured CS (MPa)</th>\n",
              "    </tr>\n",
              "  </thead>\n",
              "  <tbody>\n",
              "    <tr>\n",
              "      <th>0</th>\n",
              "      <td>261.8</td>\n",
              "      <td>933.3</td>\n",
              "      <td>460.7</td>\n",
              "      <td>0.0</td>\n",
              "      <td>117.8</td>\n",
              "      <td>0.45</td>\n",
              "      <td>7</td>\n",
              "      <td>16.90</td>\n",
              "    </tr>\n",
              "    <tr>\n",
              "      <th>1</th>\n",
              "      <td>261.8</td>\n",
              "      <td>933.3</td>\n",
              "      <td>460.7</td>\n",
              "      <td>0.0</td>\n",
              "      <td>117.8</td>\n",
              "      <td>0.45</td>\n",
              "      <td>7</td>\n",
              "      <td>17.40</td>\n",
              "    </tr>\n",
              "    <tr>\n",
              "      <th>2</th>\n",
              "      <td>261.8</td>\n",
              "      <td>933.3</td>\n",
              "      <td>460.7</td>\n",
              "      <td>0.0</td>\n",
              "      <td>117.8</td>\n",
              "      <td>0.45</td>\n",
              "      <td>7</td>\n",
              "      <td>17.97</td>\n",
              "    </tr>\n",
              "    <tr>\n",
              "      <th>3</th>\n",
              "      <td>261.8</td>\n",
              "      <td>933.3</td>\n",
              "      <td>460.7</td>\n",
              "      <td>0.0</td>\n",
              "      <td>117.8</td>\n",
              "      <td>0.45</td>\n",
              "      <td>7</td>\n",
              "      <td>17.40</td>\n",
              "    </tr>\n",
              "    <tr>\n",
              "      <th>4</th>\n",
              "      <td>261.8</td>\n",
              "      <td>933.3</td>\n",
              "      <td>437.6</td>\n",
              "      <td>23.0</td>\n",
              "      <td>117.8</td>\n",
              "      <td>0.45</td>\n",
              "      <td>7</td>\n",
              "      <td>23.60</td>\n",
              "    </tr>\n",
              "  </tbody>\n",
              "</table>\n",
              "</div>"
            ],
            "text/plain": [
              "   Cement (kg/m3)   CA (kg/m3)  FA (kg/m3)  WIS (kg/m3)  Water (kg/m3)   W/C  \\\n",
              "0            261.8       933.3       460.7          0.0          117.8  0.45   \n",
              "1            261.8       933.3       460.7          0.0          117.8  0.45   \n",
              "2            261.8       933.3       460.7          0.0          117.8  0.45   \n",
              "3            261.8       933.3       460.7          0.0          117.8  0.45   \n",
              "4            261.8       933.3       437.6         23.0          117.8  0.45   \n",
              "\n",
              "   Concrete Age (Days)  Measured CS (MPa)   \n",
              "0                    7               16.90  \n",
              "1                    7               17.40  \n",
              "2                    7               17.97  \n",
              "3                    7               17.40  \n",
              "4                    7               23.60  "
            ]
          },
          "execution_count": 2,
          "metadata": {},
          "output_type": "execute_result"
        }
      ],
      "source": [
        "file_path = 'CS.xlsx'\n",
        "df = pd.read_excel(file_path)\n",
        "df.head()"
      ]
    },
    {
      "cell_type": "code",
      "execution_count": null,
      "id": "d9620225",
      "metadata": {
        "id": "d9620225",
        "outputId": "2641d363-4870-46e3-e32b-aea4c0e3e2af"
      },
      "outputs": [
        {
          "data": {
            "text/plain": [
              "Index(['Cement (kg/m3) ', 'CA (kg/m3)', 'FA (kg/m3)', 'WIS (kg/m3)',\n",
              "       'Water (kg/m3)', 'W/C', 'Concrete Age (Days)', 'Measured CS (MPa) '],\n",
              "      dtype='object')"
            ]
          },
          "execution_count": 3,
          "metadata": {},
          "output_type": "execute_result"
        }
      ],
      "source": [
        "df.columns"
      ]
    },
    {
      "cell_type": "code",
      "execution_count": null,
      "id": "a2c1c0de",
      "metadata": {
        "id": "a2c1c0de"
      },
      "outputs": [],
      "source": [
        "features = ['Cement (kg/m3) ', 'CA (kg/m3)', 'FA (kg/m3)', 'WIS (kg/m3)',\n",
        "       'Water (kg/m3)', 'W/C', 'Concrete Age (Days)']\n",
        "target = 'Measured CS (MPa) '"
      ]
    },
    {
      "cell_type": "code",
      "execution_count": null,
      "id": "248fa571",
      "metadata": {
        "id": "248fa571",
        "outputId": "d5505857-ad0f-4014-aef0-55d40ed79fbe"
      },
      "outputs": [
        {
          "name": "stdout",
          "output_type": "stream",
          "text": [
            "\n",
            "Linear Regression equation:\n",
            "Y = 123461538674.50 + 23001892.62*Cement (kg/m3)  + -138011382.66*CA (kg/m3) + -33.38*FA (kg/m3) + -33.41*WIS (kg/m3) + -5750470.60*Water (kg/m3) + 22462.78*W/C + 0.15*Concrete Age (Days)\n",
            "\n",
            "Polynomial Regression equation:\n",
            "Y = 741585079647307.88 + -473112569.74*1 + 20665904246.43*Cement (kg/m3)  + -265854294.54*CA (kg/m3) + -70812525.34*FA (kg/m3) + -4773783066.24*WIS (kg/m3) + 2860575856.76*Water (kg/m3) + 7487516306.51*W/C + -598735694.48*Concrete Age (Days) + -2173766875.52*Cement (kg/m3) ^2 + -1236016792.60*Cement (kg/m3)  CA (kg/m3) + -1889226630.53*Cement (kg/m3)  FA (kg/m3) + 2940034988.31*Cement (kg/m3)  WIS (kg/m3) + -6066414022.10*Cement (kg/m3)  Water (kg/m3) + 8120873353.57*Cement (kg/m3)  W/C + -5261807371.78*Cement (kg/m3)  Concrete Age (Days) + -12675451.62*CA (kg/m3)^2 + 251801611.00*CA (kg/m3) FA (kg/m3) + -998552697.60*CA (kg/m3) WIS (kg/m3) + -464286501.18*CA (kg/m3) Water (kg/m3) + -806052.95*CA (kg/m3) W/C + 1489390408.31*CA (kg/m3) Concrete Age (Days) + 224807706.72*FA (kg/m3)^2 + 449615413.49*FA (kg/m3) WIS (kg/m3) + 446041041.67*FA (kg/m3) Water (kg/m3) + 10946455.58*FA (kg/m3) W/C + 0.15*FA (kg/m3) Concrete Age (Days) + 224807706.78*WIS (kg/m3)^2 + -340340630.04*WIS (kg/m3) Water (kg/m3) + -3018340.05*WIS (kg/m3) W/C + 0.15*WIS (kg/m3) Concrete Age (Days) + -12896847.26*Water (kg/m3)^2 + -75567.46*Water (kg/m3) W/C + -89397055.50*Water (kg/m3) Concrete Age (Days) + 196.79*W/C^2 + -29084.43*W/C Concrete Age (Days) + -39347894.28*Concrete Age (Days)^2\n",
            "\n",
            "Ridge Regression equation:\n",
            "Y = 635.41 + 0.00*Cement (kg/m3)  + -0.00*CA (kg/m3) + -1.34*FA (kg/m3) + -1.38*WIS (kg/m3) + -0.00*Water (kg/m3) + 0.00*W/C + 0.14*Concrete Age (Days)\n",
            "\n",
            "Lasso Regression equation:\n",
            "Y = 13.96 + 0.01*FA (kg/m3) + -0.03*WIS (kg/m3) + 0.14*Concrete Age (Days)\n",
            "\n",
            "Decision Tree Regression does not have a simple equation.\n",
            "\n",
            "Model evaluations:\n",
            "Linear Regression Train R²: 0.7154242181725419\n",
            "Linear Regression Train MAE: 1.4884689885919746\n",
            "Linear Regression Train RMSE: 1.8397195127552899\n",
            "Linear Regression Test R²: 0.4608686493751175\n",
            "Linear Regression Test MAE: 1.4730144246419272\n",
            "Linear Regression Test RMSE: 1.7401647914946834\n",
            "Polynomial Regression Train R²: 0.7493909980609178\n",
            "Polynomial Regression Train MAE: 1.4657954545454546\n",
            "Polynomial Regression Train RMSE: 1.7264379711364721\n",
            "Polynomial Regression Test R²: 0.3385081118773906\n",
            "Polynomial Regression Test MAE: 1.687916666666667\n",
            "Polynomial Regression Test RMSE: 1.9275486375186495\n",
            "Ridge Regression Train R²: 0.5490317913710718\n",
            "Ridge Regression Train MAE: 2.0164011724175666\n",
            "Ridge Regression Train RMSE: 2.3159309642591377\n",
            "Ridge Regression Test R²: 0.3645428249773287\n",
            "Ridge Regression Test MAE: 1.6198050491421399\n",
            "Ridge Regression Test RMSE: 1.8892360661396148\n",
            "Lasso Regression Train R²: 0.534715372830638\n",
            "Lasso Regression Train MAE: 2.054237658213275\n",
            "Lasso Regression Train RMSE: 2.35240447963857\n",
            "Lasso Regression Test R²: 0.3418504088604458\n",
            "Lasso Regression Test MAE: 1.6701787607350118\n",
            "Lasso Regression Test RMSE: 1.9226728419051524\n",
            "Decision Tree Regression Train R²: 0.9604326292100263\n",
            "Decision Tree Regression Train MAE: 0.5456818181818184\n",
            "Decision Tree Regression Train RMSE: 0.6859954611564664\n",
            "Decision Tree Regression Test R²: 0.8436844565005058\n",
            "Decision Tree Regression Test MAE: 0.7480555555555553\n",
            "Decision Tree Regression Test RMSE: 0.9370098718796933\n"
          ]
        }
      ],
      "source": [
        "X = df[features]\n",
        "Y = df[target]\n",
        "\n",
        "# Split the data into training and testing sets\n",
        "X_train, X_test, Y_train, Y_test = train_test_split(X, Y, test_size=0.2, random_state=42)\n",
        "\n",
        "# Initialize models\n",
        "linear_model = LinearRegression()\n",
        "poly = PolynomialFeatures(degree=2)\n",
        "poly_model = LinearRegression()\n",
        "ridge_model = Ridge(alpha=1.0)\n",
        "lasso_model = Lasso(alpha=0.1)\n",
        "tree_model = DecisionTreeRegressor()\n",
        "\n",
        "# Train models\n",
        "linear_model.fit(X_train, Y_train)\n",
        "X_train_poly = poly.fit_transform(X_train)\n",
        "X_test_poly = poly.transform(X_test)\n",
        "poly_model.fit(X_train_poly, Y_train)\n",
        "ridge_model.fit(X_train, Y_train)\n",
        "lasso_model.fit(X_train, Y_train)\n",
        "tree_model.fit(X_train, Y_train)\n",
        "\n",
        "# Make predictions\n",
        "linear_train_predictions = linear_model.predict(X_train)\n",
        "linear_test_predictions = linear_model.predict(X_test)\n",
        "\n",
        "poly_train_predictions = poly_model.predict(X_train_poly)\n",
        "poly_test_predictions = poly_model.predict(X_test_poly)\n",
        "\n",
        "ridge_train_predictions = ridge_model.predict(X_train)\n",
        "ridge_test_predictions = ridge_model.predict(X_test)\n",
        "\n",
        "lasso_train_predictions = lasso_model.predict(X_train)\n",
        "lasso_test_predictions = lasso_model.predict(X_test)\n",
        "\n",
        "tree_train_predictions = tree_model.predict(X_train)\n",
        "tree_test_predictions = tree_model.predict(X_test)\n",
        "\n",
        "# Print regression equations\n",
        "print(\"\\nLinear Regression equation:\")\n",
        "linear_eq = \"Y = {:.2f}\".format(linear_model.intercept_)\n",
        "for i, feature in enumerate(features):\n",
        "    linear_eq += \" + {:.2f}*{}\".format(linear_model.coef_[i], feature)\n",
        "print(linear_eq)\n",
        "\n",
        "print(\"\\nPolynomial Regression equation:\")\n",
        "poly_features = poly.get_feature_names_out()\n",
        "poly_eq = \"Y = {:.2f}\".format(poly_model.intercept_)\n",
        "for i, coef in enumerate(poly_model.coef_):\n",
        "    if coef != 0:\n",
        "        poly_eq += \" + {:.2f}*{}\".format(coef, poly_features[i])\n",
        "print(poly_eq)\n",
        "\n",
        "print(\"\\nRidge Regression equation:\")\n",
        "ridge_eq = \"Y = {:.2f}\".format(ridge_model.intercept_)\n",
        "for i, feature in enumerate(features):\n",
        "    ridge_eq += \" + {:.2f}*{}\".format(ridge_model.coef_[i], feature)\n",
        "print(ridge_eq)\n",
        "\n",
        "print(\"\\nLasso Regression equation:\")\n",
        "lasso_eq = \"Y = {:.2f}\".format(lasso_model.intercept_)\n",
        "for i, feature in enumerate(features):\n",
        "    if lasso_model.coef_[i] != 0:  # Lasso may produce zero coefficients\n",
        "        lasso_eq += \" + {:.2f}*{}\".format(lasso_model.coef_[i], feature)\n",
        "print(lasso_eq)\n",
        "\n",
        "print(\"\\nDecision Tree Regression does not have a simple equation.\")\n",
        "\n",
        "# Evaluation function\n",
        "def evaluate_model(predictions, true_values):\n",
        "    r2 = r2_score(true_values, predictions)\n",
        "    mae = mean_absolute_error(true_values, predictions)\n",
        "    rmse = np.sqrt(mean_squared_error(true_values, predictions))\n",
        "    return r2, mae, rmse\n",
        "\n",
        "# Evaluate models\n",
        "print(\"\\nModel evaluations:\")\n",
        "\n",
        "# Linear Regression\n",
        "linear_train_r2, linear_train_mae, linear_train_rmse = evaluate_model(linear_train_predictions, Y_train)\n",
        "linear_test_r2, linear_test_mae, linear_test_rmse = evaluate_model(linear_test_predictions, Y_test)\n",
        "print(\"Linear Regression Train R²:\", linear_train_r2)\n",
        "print(\"Linear Regression Train MAE:\", linear_train_mae)\n",
        "print(\"Linear Regression Train RMSE:\", linear_train_rmse)\n",
        "print(\"Linear Regression Test R²:\", linear_test_r2)\n",
        "print(\"Linear Regression Test MAE:\", linear_test_mae)\n",
        "print(\"Linear Regression Test RMSE:\", linear_test_rmse)\n",
        "\n",
        "# Polynomial Regression\n",
        "poly_train_r2, poly_train_mae, poly_train_rmse = evaluate_model(poly_train_predictions, Y_train)\n",
        "poly_test_r2, poly_test_mae, poly_test_rmse = evaluate_model(poly_test_predictions, Y_test)\n",
        "print(\"Polynomial Regression Train R²:\", poly_train_r2)\n",
        "print(\"Polynomial Regression Train MAE:\", poly_train_mae)\n",
        "print(\"Polynomial Regression Train RMSE:\", poly_train_rmse)\n",
        "print(\"Polynomial Regression Test R²:\", poly_test_r2)\n",
        "print(\"Polynomial Regression Test MAE:\", poly_test_mae)\n",
        "print(\"Polynomial Regression Test RMSE:\", poly_test_rmse)\n",
        "\n",
        "# Ridge Regression\n",
        "ridge_train_r2, ridge_train_mae, ridge_train_rmse = evaluate_model(ridge_train_predictions, Y_train)\n",
        "ridge_test_r2, ridge_test_mae, ridge_test_rmse = evaluate_model(ridge_test_predictions, Y_test)\n",
        "print(\"Ridge Regression Train R²:\", ridge_train_r2)\n",
        "print(\"Ridge Regression Train MAE:\", ridge_train_mae)\n",
        "print(\"Ridge Regression Train RMSE:\", ridge_train_rmse)\n",
        "print(\"Ridge Regression Test R²:\", ridge_test_r2)\n",
        "print(\"Ridge Regression Test MAE:\", ridge_test_mae)\n",
        "print(\"Ridge Regression Test RMSE:\", ridge_test_rmse)\n",
        "\n",
        "# Lasso Regression\n",
        "lasso_train_r2, lasso_train_mae, lasso_train_rmse = evaluate_model(lasso_train_predictions, Y_train)\n",
        "lasso_test_r2, lasso_test_mae, lasso_test_rmse = evaluate_model(lasso_test_predictions, Y_test)\n",
        "print(\"Lasso Regression Train R²:\", lasso_train_r2)\n",
        "print(\"Lasso Regression Train MAE:\", lasso_train_mae)\n",
        "print(\"Lasso Regression Train RMSE:\", lasso_train_rmse)\n",
        "print(\"Lasso Regression Test R²:\", lasso_test_r2)\n",
        "print(\"Lasso Regression Test MAE:\", lasso_test_mae)\n",
        "print(\"Lasso Regression Test RMSE:\", lasso_test_rmse)\n",
        "\n",
        "# Decision Tree Regression\n",
        "tree_train_r2, tree_train_mae, tree_train_rmse = evaluate_model(tree_train_predictions, Y_train)\n",
        "tree_test_r2, tree_test_mae, tree_test_rmse = evaluate_model(tree_test_predictions, Y_test)\n",
        "print(\"Decision Tree Regression Train R²:\", tree_train_r2)\n",
        "print(\"Decision Tree Regression Train MAE:\", tree_train_mae)\n",
        "print(\"Decision Tree Regression Train RMSE:\", tree_train_rmse)\n",
        "print(\"Decision Tree Regression Test R²:\", tree_test_r2)\n",
        "print(\"Decision Tree Regression Test MAE:\", tree_test_mae)\n",
        "print(\"Decision Tree Regression Test RMSE:\", tree_test_rmse)"
      ]
    },
    {
      "cell_type": "code",
      "execution_count": null,
      "id": "93e897ef",
      "metadata": {
        "id": "93e897ef",
        "outputId": "f0bdd5a1-1441-484a-fd00-e81e1f2457b2"
      },
      "outputs": [
        {
          "data": {
            "text/html": [
              "<style>#sk-container-id-1 {color: black;background-color: white;}#sk-container-id-1 pre{padding: 0;}#sk-container-id-1 div.sk-toggleable {background-color: white;}#sk-container-id-1 label.sk-toggleable__label {cursor: pointer;display: block;width: 100%;margin-bottom: 0;padding: 0.3em;box-sizing: border-box;text-align: center;}#sk-container-id-1 label.sk-toggleable__label-arrow:before {content: \"▸\";float: left;margin-right: 0.25em;color: #696969;}#sk-container-id-1 label.sk-toggleable__label-arrow:hover:before {color: black;}#sk-container-id-1 div.sk-estimator:hover label.sk-toggleable__label-arrow:before {color: black;}#sk-container-id-1 div.sk-toggleable__content {max-height: 0;max-width: 0;overflow: hidden;text-align: left;background-color: #f0f8ff;}#sk-container-id-1 div.sk-toggleable__content pre {margin: 0.2em;color: black;border-radius: 0.25em;background-color: #f0f8ff;}#sk-container-id-1 input.sk-toggleable__control:checked~div.sk-toggleable__content {max-height: 200px;max-width: 100%;overflow: auto;}#sk-container-id-1 input.sk-toggleable__control:checked~label.sk-toggleable__label-arrow:before {content: \"▾\";}#sk-container-id-1 div.sk-estimator input.sk-toggleable__control:checked~label.sk-toggleable__label {background-color: #d4ebff;}#sk-container-id-1 div.sk-label input.sk-toggleable__control:checked~label.sk-toggleable__label {background-color: #d4ebff;}#sk-container-id-1 input.sk-hidden--visually {border: 0;clip: rect(1px 1px 1px 1px);clip: rect(1px, 1px, 1px, 1px);height: 1px;margin: -1px;overflow: hidden;padding: 0;position: absolute;width: 1px;}#sk-container-id-1 div.sk-estimator {font-family: monospace;background-color: #f0f8ff;border: 1px dotted black;border-radius: 0.25em;box-sizing: border-box;margin-bottom: 0.5em;}#sk-container-id-1 div.sk-estimator:hover {background-color: #d4ebff;}#sk-container-id-1 div.sk-parallel-item::after {content: \"\";width: 100%;border-bottom: 1px solid gray;flex-grow: 1;}#sk-container-id-1 div.sk-label:hover label.sk-toggleable__label {background-color: #d4ebff;}#sk-container-id-1 div.sk-serial::before {content: \"\";position: absolute;border-left: 1px solid gray;box-sizing: border-box;top: 0;bottom: 0;left: 50%;z-index: 0;}#sk-container-id-1 div.sk-serial {display: flex;flex-direction: column;align-items: center;background-color: white;padding-right: 0.2em;padding-left: 0.2em;position: relative;}#sk-container-id-1 div.sk-item {position: relative;z-index: 1;}#sk-container-id-1 div.sk-parallel {display: flex;align-items: stretch;justify-content: center;background-color: white;position: relative;}#sk-container-id-1 div.sk-item::before, #sk-container-id-1 div.sk-parallel-item::before {content: \"\";position: absolute;border-left: 1px solid gray;box-sizing: border-box;top: 0;bottom: 0;left: 50%;z-index: -1;}#sk-container-id-1 div.sk-parallel-item {display: flex;flex-direction: column;z-index: 1;position: relative;background-color: white;}#sk-container-id-1 div.sk-parallel-item:first-child::after {align-self: flex-end;width: 50%;}#sk-container-id-1 div.sk-parallel-item:last-child::after {align-self: flex-start;width: 50%;}#sk-container-id-1 div.sk-parallel-item:only-child::after {width: 0;}#sk-container-id-1 div.sk-dashed-wrapped {border: 1px dashed gray;margin: 0 0.4em 0.5em 0.4em;box-sizing: border-box;padding-bottom: 0.4em;background-color: white;}#sk-container-id-1 div.sk-label label {font-family: monospace;font-weight: bold;display: inline-block;line-height: 1.2em;}#sk-container-id-1 div.sk-label-container {text-align: center;}#sk-container-id-1 div.sk-container {/* jupyter's `normalize.less` sets `[hidden] { display: none; }` but bootstrap.min.css set `[hidden] { display: none !important; }` so we also need the `!important` here to be able to override the default hidden behavior on the sphinx rendered scikit-learn.org. See: https://github.com/scikit-learn/scikit-learn/issues/21755 */display: inline-block !important;position: relative;}#sk-container-id-1 div.sk-text-repr-fallback {display: none;}</style><div id=\"sk-container-id-1\" class=\"sk-top-container\"><div class=\"sk-text-repr-fallback\"><pre>RandomForestRegressor(random_state=42)</pre><b>In a Jupyter environment, please rerun this cell to show the HTML representation or trust the notebook. <br />On GitHub, the HTML representation is unable to render, please try loading this page with nbviewer.org.</b></div><div class=\"sk-container\" hidden><div class=\"sk-item\"><div class=\"sk-estimator sk-toggleable\"><input class=\"sk-toggleable__control sk-hidden--visually\" id=\"sk-estimator-id-1\" type=\"checkbox\" checked><label for=\"sk-estimator-id-1\" class=\"sk-toggleable__label sk-toggleable__label-arrow\">RandomForestRegressor</label><div class=\"sk-toggleable__content\"><pre>RandomForestRegressor(random_state=42)</pre></div></div></div></div></div>"
            ],
            "text/plain": [
              "RandomForestRegressor(random_state=42)"
            ]
          },
          "execution_count": 10,
          "metadata": {},
          "output_type": "execute_result"
        }
      ],
      "source": [
        "from sklearn.ensemble import RandomForestRegressor\n",
        "\n",
        "clf = RandomForestRegressor(n_estimators=100, random_state=42)\n",
        "clf.fit(X_train, Y_train)"
      ]
    },
    {
      "cell_type": "code",
      "execution_count": null,
      "id": "49e90f02",
      "metadata": {
        "id": "49e90f02",
        "outputId": "22af0ee0-6513-4ae5-ac92-4dece8132aa8"
      },
      "outputs": [
        {
          "data": {
            "text/plain": [
              "array([0.        , 0.        , 0.39843212, 0.38572751, 0.        ,\n",
              "       0.        , 0.21584038])"
            ]
          },
          "execution_count": 11,
          "metadata": {},
          "output_type": "execute_result"
        }
      ],
      "source": [
        "clf.feature_importances_"
      ]
    },
    {
      "cell_type": "code",
      "execution_count": null,
      "id": "cd0e8b2a",
      "metadata": {
        "id": "cd0e8b2a",
        "outputId": "d07289f7-c9d1-4b24-d4c4-9b0dfecb4026"
      },
      "outputs": [
        {
          "data": {
            "text/plain": [
              "Index(['Cement (kg/m3) ', 'CA (kg/m3)', 'FA (kg/m3)', 'WIS (kg/m3)',\n",
              "       'Water (kg/m3)', 'W/C', 'Concrete Age (Days)', 'Measured CS (MPa) '],\n",
              "      dtype='object')"
            ]
          },
          "execution_count": 12,
          "metadata": {},
          "output_type": "execute_result"
        }
      ],
      "source": [
        "df.columns"
      ]
    },
    {
      "cell_type": "code",
      "execution_count": null,
      "id": "9952d67b",
      "metadata": {
        "id": "9952d67b",
        "outputId": "ed669647-4a24-4588-cce0-5f6176e09e79"
      },
      "outputs": [
        {
          "ename": "ModuleNotFoundError",
          "evalue": "No module named 'xgboost'",
          "output_type": "error",
          "traceback": [
            "\u001b[1;31m---------------------------------------------------------------------------\u001b[0m",
            "\u001b[1;31mModuleNotFoundError\u001b[0m                       Traceback (most recent call last)",
            "Cell \u001b[1;32mIn[14], line 10\u001b[0m\n\u001b[0;32m      8\u001b[0m \u001b[38;5;28;01mfrom\u001b[39;00m \u001b[38;5;21;01msklearn\u001b[39;00m\u001b[38;5;21;01m.\u001b[39;00m\u001b[38;5;21;01mtree\u001b[39;00m \u001b[38;5;28;01mimport\u001b[39;00m DecisionTreeRegressor\n\u001b[0;32m      9\u001b[0m \u001b[38;5;28;01mfrom\u001b[39;00m \u001b[38;5;21;01msklearn\u001b[39;00m\u001b[38;5;21;01m.\u001b[39;00m\u001b[38;5;21;01mmetrics\u001b[39;00m \u001b[38;5;28;01mimport\u001b[39;00m r2_score, mean_squared_error, mean_absolute_error\n\u001b[1;32m---> 10\u001b[0m \u001b[38;5;28;01mimport\u001b[39;00m \u001b[38;5;21;01mxgboost\u001b[39;00m \u001b[38;5;28;01mas\u001b[39;00m \u001b[38;5;21;01mxgb\u001b[39;00m\n\u001b[0;32m     11\u001b[0m \u001b[38;5;28;01mfrom\u001b[39;00m \u001b[38;5;21;01mgplearn\u001b[39;00m\u001b[38;5;21;01m.\u001b[39;00m\u001b[38;5;21;01mgenetic\u001b[39;00m \u001b[38;5;28;01mimport\u001b[39;00m SymbolicRegressor\n\u001b[0;32m     13\u001b[0m file_path \u001b[38;5;241m=\u001b[39m \u001b[38;5;124m'\u001b[39m\u001b[38;5;124mCS.xlsx\u001b[39m\u001b[38;5;124m'\u001b[39m \n",
            "\u001b[1;31mModuleNotFoundError\u001b[0m: No module named 'xgboost'"
          ]
        }
      ],
      "source": [
        "import numpy as np\n",
        "import pandas as pd\n",
        "from sklearn.model_selection import train_test_split\n",
        "from sklearn.svm import SVR\n",
        "from sklearn.gaussian_process import GaussianProcessRegressor\n",
        "from sklearn.gaussian_process.kernels import RBF, ConstantKernel as C\n",
        "from sklearn.ensemble import RandomForestRegressor, GradientBoostingRegressor\n",
        "from sklearn.tree import DecisionTreeRegressor\n",
        "from sklearn.metrics import r2_score, mean_squared_error, mean_absolute_error\n",
        "import xgboost as xgb\n",
        "from gplearn.genetic import SymbolicRegressor\n",
        "\n",
        "file_path = 'CS.xlsx'\n",
        "df = pd.read_excel(file_path)\n",
        "\n",
        "features = ['Cement (kg/m3) ', 'CA (kg/m3)', 'FA (kg/m3)', 'WIS (kg/m3)',\n",
        "       'Water (kg/m3)', 'W/C', 'Concrete Age (Days)']\n",
        "target = 'Measured CS (MPa) '\n",
        "\n",
        "X = data[features]\n",
        "y = data[target]\n",
        "\n",
        "# Split the data\n",
        "X_train, X_test, y_train, y_test = train_test_split(X, y, test_size=0.3, random_state=42)\n",
        "\n",
        "# Define the scatter index function\n",
        "def scatter_index(y_true, y_pred):\n",
        "    rmse = np.sqrt(mean_squared_error(y_true, y_pred))\n",
        "    mean_true = np.mean(y_true)\n",
        "    scatter_idx = (rmse / mean_true) * 100\n",
        "    return scatter_idx\n",
        "\n",
        "# 1. Support Vector Machine (SVM)\n",
        "svm = SVR()\n",
        "svm.fit(X_train, y_train)\n",
        "y_pred_svm = svm.predict(X_test)\n",
        "print(\"SVM - R²:\", r2_score(y_test, y_pred_svm))\n",
        "print(\"SVM - RMSE:\", np.sqrt(mean_squared_error(y_test, y_pred_svm)))\n",
        "print(\"SVM - MAE:\", mean_absolute_error(y_test, y_pred_svm))\n",
        "print(\"SVM - Scatter Index:\", scatter_index(y_test, y_pred_svm))\n",
        "\n",
        "# 2. Gaussian Process Regressor (GPR)\n",
        "kernel = C() * RBF()\n",
        "gpr = GaussianProcessRegressor(kernel=kernel)\n",
        "gpr.fit(X_train, y_train)\n",
        "y_pred_gpr, _ = gpr.predict(X_test, return_std=True)\n",
        "print(\"GPR - R²:\", r2_score(y_test, y_pred_gpr))\n",
        "print(\"GPR - RMSE:\", np.sqrt(mean_squared_error(y_test, y_pred_gpr)))\n",
        "print(\"GPR - MAE:\", mean_absolute_error(y_test, y_pred_gpr))\n",
        "print(\"GPR - Scatter Index:\", scatter_index(y_test, y_pred_gpr))\n",
        "\n",
        "# 3. Random Forest Regressor\n",
        "rf = RandomForestRegressor()\n",
        "rf.fit(X_train, y_train)\n",
        "y_pred_rf = rf.predict(X_test)\n",
        "print(\"RF - R²:\", r2_score(y_test, y_pred_rf))\n",
        "print(\"RF - RMSE:\", np.sqrt(mean_squared_error(y_test, y_pred_rf)))\n",
        "print(\"RF - MAE:\", mean_absolute_error(y_test, y_pred_rf))\n",
        "print(\"RF - Scatter Index:\", scatter_index(y_test, y_pred_rf))\n",
        "\n",
        "# 4. Gradient Boosting Regressor\n",
        "gbr = GradientBoostingRegressor()\n",
        "gbr.fit(X_train, y_train)\n",
        "y_pred_gbr = gbr.predict(X_test)\n",
        "print(\"GBR - R²:\", r2_score(y_test, y_pred_gbr))\n",
        "print(\"GBR - RMSE:\", np.sqrt(mean_squared_error(y_test, y_pred_gbr)))\n",
        "print(\"GBR - MAE:\", mean_absolute_error(y_test, y_pred_gbr))\n",
        "print(\"GBR - Scatter Index:\", scatter_index(y_test, y_pred_gbr))\n",
        "\n",
        "# 5. Decision Tree Regressor\n",
        "dt = DecisionTreeRegressor()\n",
        "dt.fit(X_train, y_train)\n",
        "y_pred_dt = dt.predict(X_test)\n",
        "print(\"DT - R²:\", r2_score(y_test, y_pred_dt))\n",
        "print(\"DT - RMSE:\", np.sqrt(mean_squared_error(y_test, y_pred_dt)))\n",
        "print(\"DT - MAE:\", mean_absolute_error(y_test, y_pred_dt))\n",
        "print(\"DT - Scatter Index:\", scatter_index(y_test, y_pred_dt))\n",
        "\n",
        "# 6. XGBoost Regressor\n",
        "xg_reg = xgb.XGBRegressor()\n",
        "xg_reg.fit(X_train, y_train)\n",
        "y_pred_xg = xg_reg.predict(X_test)\n",
        "print(\"XGBoost - R²:\", r2_score(y_test, y_pred_xg))\n",
        "print(\"XGBoost - RMSE:\", np.sqrt(mean_squared_error(y_test, y_pred_xg)))\n",
        "print(\"XGBoost - MAE:\", mean_absolute_error(y_test, y_pred_xg))\n",
        "print(\"XGBoost - Scatter Index:\", scatter_index(y_test, y_pred_xg))\n",
        "\n",
        "# 7. Symbolic Regression\n",
        "sr = SymbolicRegressor(population_size=1000, generations=20, tournament_size=20,\n",
        "                       const_range=(0, 1), init_depth=(2, 6), init_method='half and half',\n",
        "                       metric='mean absolute error', parsimony_coefficient=0.01, random_state=42)\n",
        "sr.fit(X_train, y_train)\n",
        "y_pred_sr = sr.predict(X_test)\n",
        "print(\"Symbolic Regression - R²:\", r2_score(y_test, y_pred_sr))\n",
        "print(\"Symbolic Regression - RMSE:\", np.sqrt(mean_squared_error(y_test, y_pred_sr)))\n",
        "print(\"Symbolic Regression - MAE:\", mean_absolute_error(y_test, y_pred_sr))\n",
        "print(\"Symbolic Regression - Scatter Index:\", scatter_index(y_test, y_pred_sr))\n"
      ]
    },
    {
      "cell_type": "code",
      "execution_count": null,
      "id": "025c8d97",
      "metadata": {
        "id": "025c8d97"
      },
      "outputs": [],
      "source": []
    }
  ],
  "metadata": {
    "colab": {
      "provenance": [],
      "include_colab_link": true
    },
    "kernelspec": {
      "display_name": "Python 3 (ipykernel)",
      "language": "python",
      "name": "python3"
    },
    "language_info": {
      "codemirror_mode": {
        "name": "ipython",
        "version": 3
      },
      "file_extension": ".py",
      "mimetype": "text/x-python",
      "name": "python",
      "nbconvert_exporter": "python",
      "pygments_lexer": "ipython3",
      "version": "3.11.5"
    }
  },
  "nbformat": 4,
  "nbformat_minor": 5
}